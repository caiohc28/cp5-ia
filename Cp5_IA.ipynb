{
  "nbformat": 4,
  "nbformat_minor": 0,
  "metadata": {
    "colab": {
      "provenance": [],
      "authorship_tag": "ABX9TyN7eYs37QWmjlopJikbW19+",
      "include_colab_link": true
    },
    "kernelspec": {
      "name": "python3",
      "display_name": "Python 3"
    },
    "language_info": {
      "name": "python"
    }
  },
  "cells": [
    {
      "cell_type": "markdown",
      "metadata": {
        "id": "view-in-github",
        "colab_type": "text"
      },
      "source": [
        "<a href=\"https://colab.research.google.com/github/caiohc28/cp5-ia/blob/main/Cp5_IA.ipynb\" target=\"_parent\"><img src=\"https://colab.research.google.com/assets/colab-badge.svg\" alt=\"Open In Colab\"/></a>"
      ]
    },
    {
      "cell_type": "code",
      "execution_count": 8,
      "metadata": {
        "id": "KDUFsQWYdNO8"
      },
      "outputs": [],
      "source": [
        "import numpy as np\n",
        "import pandas as pd\n",
        "import tensorflow as tf\n",
        "from tensorflow import keras\n",
        "from tensorflow.keras import layers\n",
        "from sklearn.datasets import load_wine, fetch_california_housing\n",
        "from sklearn.model_selection import train_test_split\n",
        "from sklearn.preprocessing import StandardScaler\n",
        "from sklearn.linear_model import LogisticRegression, LinearRegression\n",
        "from sklearn.metrics import accuracy_score, mean_squared_error\n",
        "import math\n",
        "import os\n",
        "import random\n",
        "import matplotlib.pyplot as plt\n",
        "\n",
        "SEED = 42\n",
        "np.random.seed(SEED)\n",
        "tf.random.set_seed(SEED)\n",
        "random.seed(SEED)\n",
        "os.environ['PYTHONHASHSEED'] = str(SEED)\n"
      ]
    },
    {
      "cell_type": "markdown",
      "source": [
        "# **EXERCICIO 1**"
      ],
      "metadata": {
        "id": "gO9ay37IeElG"
      }
    },
    {
      "cell_type": "code",
      "source": [
        "data = load_wine()\n",
        "X = data.data\n",
        "y = data.target\n",
        "target_names = data.target_names\n",
        "\n",
        "\n",
        "X_train, X_test, y_train, y_test = train_test_split(X, y, test_size=0.2, random_state=SEED, stratify=y)\n",
        "\n",
        "\n",
        "scaler = StandardScaler()\n",
        "X_train_scaled = scaler.fit_transform(X_train)\n",
        "X_test_scaled = scaler.transform(X_test)\n",
        "\n",
        "\n",
        "y_train_cat = keras.utils.to_categorical(y_train, num_classes=3)\n",
        "y_test_cat = keras.utils.to_categorical(y_test, num_classes=3)\n",
        "\n",
        "print(\"Wine dataset:\", X.shape, \"classes:\", np.unique(y))\n",
        "print(\"Treino:\", X_train.shape, \"Test:\", X_test.shape)\n"
      ],
      "metadata": {
        "colab": {
          "base_uri": "https://localhost:8080/"
        },
        "id": "uH7AflgZdOsN",
        "outputId": "548dfa55-1ffb-4919-c2ca-1e8bf20ad92f"
      },
      "execution_count": 9,
      "outputs": [
        {
          "output_type": "stream",
          "name": "stdout",
          "text": [
            "Wine dataset: (178, 13) classes: [0 1 2]\n",
            "Treino: (142, 13) Test: (36, 13)\n"
          ]
        }
      ]
    },
    {
      "cell_type": "code",
      "source": [
        "def build_wine_keras_model(input_dim):\n",
        "    model = keras.Sequential([\n",
        "        layers.Input(shape=(input_dim,)),\n",
        "        layers.Dense(32, activation='relu'),\n",
        "        layers.Dense(32, activation='relu'),\n",
        "        layers.Dense(3, activation='softmax')\n",
        "    ])\n",
        "    model.compile(optimizer='adam',\n",
        "                  loss='categorical_crossentropy',\n",
        "                  metrics=['accuracy'])\n",
        "    return model\n",
        "\n",
        "model_wine = build_wine_keras_model(X_train_scaled.shape[1])\n",
        "\n",
        "history = model_wine.fit(X_train_scaled, y_train_cat,\n",
        "                         validation_split=0.1,\n",
        "                         epochs=50,\n",
        "                         batch_size=16,\n",
        "                         verbose=0)\n",
        "\n",
        "pred_proba = model_wine.predict(X_test_scaled, verbose=0)\n",
        "pred_classes = np.argmax(pred_proba, axis=1)\n",
        "acc_keras_wine = accuracy_score(y_test, pred_classes)\n",
        "\n",
        "print(f\"Modelo Keras treinado. Acurácia (test): {acc_keras_wine:.4f}\")\n"
      ],
      "metadata": {
        "colab": {
          "base_uri": "https://localhost:8080/"
        },
        "id": "d0b4YZNndRAx",
        "outputId": "a5c7904b-ca16-4638-92e3-b9bb10f1ccf6"
      },
      "execution_count": 10,
      "outputs": [
        {
          "output_type": "stream",
          "name": "stdout",
          "text": [
            "Modelo Keras treinado. Acurácia (test): 0.9722\n"
          ]
        }
      ]
    },
    {
      "cell_type": "code",
      "source": [
        "lr = LogisticRegression(multi_class='multinomial', max_iter=1000, random_state=SEED, solver='lbfgs')\n",
        "lr.fit(X_train_scaled, y_train)\n",
        "pred_lr = lr.predict(X_test_scaled)\n",
        "acc_lr = accuracy_score(y_test, pred_lr)\n",
        "\n",
        "\n",
        "print(f\"Modelo Keras: {acc_keras_wine*100:.2f}% de acurácia.\")\n",
        "print(f\"Modelo LogisticRegression: {acc_lr*100:.2f}% de acurácia.\")\n",
        "if acc_lr > acc_keras_wine:\n",
        "    print(\"=> LogisticRegression performou melhor.\")\n",
        "elif acc_lr < acc_keras_wine:\n",
        "    print(\"=> Keras performou melhor.\")\n",
        "else:\n",
        "    print(\"=> Ambos performaram igual.\")\n"
      ],
      "metadata": {
        "colab": {
          "base_uri": "https://localhost:8080/"
        },
        "id": "Qx7UJkMldTW6",
        "outputId": "adee14d8-b5ea-4c03-b421-a6f65e94b9a1"
      },
      "execution_count": 11,
      "outputs": [
        {
          "output_type": "stream",
          "name": "stdout",
          "text": [
            "Modelo Keras: 97.22% de acurácia.\n",
            "Modelo LogisticRegression: 97.22% de acurácia.\n",
            "=> Ambos performaram igual.\n"
          ]
        },
        {
          "output_type": "stream",
          "name": "stderr",
          "text": [
            "/usr/local/lib/python3.12/dist-packages/sklearn/linear_model/_logistic.py:1247: FutureWarning: 'multi_class' was deprecated in version 1.5 and will be removed in 1.7. From then on, it will always use 'multinomial'. Leave it to its default value to avoid this warning.\n",
            "  warnings.warn(\n"
          ]
        }
      ]
    },
    {
      "cell_type": "code",
      "source": [
        "modelos = ['Keras', 'LogisticRegression']\n",
        "acuracia = [97.22, 97.22]\n",
        "\n",
        "plt.bar(modelos, acuracia, color=['blue', 'green'])\n",
        "plt.ylim(0, 100)\n",
        "plt.ylabel('Acurácia (%)')\n",
        "plt.title('Comparação de Acurácia - Wine Dataset')\n",
        "for i, v in enumerate(acuracia):\n",
        "    plt.text(i, v + 1, f\"{v}%\", ha='center')\n",
        "plt.show()\n"
      ],
      "metadata": {
        "colab": {
          "base_uri": "https://localhost:8080/",
          "height": 453
        },
        "id": "uPRNALDgg7uc",
        "outputId": "8b8204ca-ffab-4888-e3f1-4629436b9b43"
      },
      "execution_count": 12,
      "outputs": [
        {
          "output_type": "display_data",
          "data": {
            "text/plain": [
              "<Figure size 640x480 with 1 Axes>"
            ],
            "image/png": "[encoded data removed]"
          },
          "metadata": {}
        }
      ]
    },
    {
      "cell_type": "markdown",
      "source": [
        "# **EXERCICIO 2**"
      ],
      "metadata": {
        "id": "lwkFyQ5fd_nQ"
      }
    },
    {
      "cell_type": "code",
      "source": [
        "housing = fetch_california_housing()\n",
        "X = housing.data\n",
        "y = housing.target\n",
        "\n",
        "\n",
        "X_train, X_test, y_train, y_test = train_test_split(X, y, test_size=0.2, random_state=SEED)\n",
        "\n",
        "\n",
        "scaler_X = StandardScaler()\n",
        "X_train_scaled = scaler_X.fit_transform(X_train)\n",
        "X_test_scaled = scaler_X.transform(X_test)\n",
        "\n",
        "print(\"California Housing:\", X.shape)\n",
        "print(\"Treino:\", X_train.shape, \"Test:\", X_test.shape)\n"
      ],
      "metadata": {
        "colab": {
          "base_uri": "https://localhost:8080/"
        },
        "id": "yrE-_RsGdVXJ",
        "outputId": "f9a405f2-250e-4307-d0cd-4d0144723aa3"
      },
      "execution_count": 13,
      "outputs": [
        {
          "output_type": "stream",
          "name": "stdout",
          "text": [
            "California Housing: (20640, 8)\n",
            "Treino: (16512, 8) Test: (4128, 8)\n"
          ]
        }
      ]
    },
    {
      "cell_type": "code",
      "source": [
        "def build_housing_keras_model(input_dim):\n",
        "    model = keras.Sequential([\n",
        "        layers.Input(shape=(input_dim,)),\n",
        "        layers.Dense(64, activation='relu'),\n",
        "        layers.Dense(32, activation='relu'),\n",
        "        layers.Dense(16, activation='relu'),\n",
        "        layers.Dense(1, activation='linear')\n",
        "    ])\n",
        "    model.compile(optimizer='adam', loss='mse')\n",
        "    return model\n",
        "\n",
        "model_housing = build_housing_keras_model(X_train_scaled.shape[1])\n",
        "\n",
        "history = model_housing.fit(X_train_scaled, y_train,\n",
        "                            validation_split=0.1,\n",
        "                            epochs=100,\n",
        "                            batch_size=32,\n",
        "                            verbose=0)\n",
        "\n",
        "pred_keras = model_housing.predict(X_test_scaled, verbose=0).ravel()\n",
        "rmse_keras = math.sqrt(mean_squared_error(y_test, pred_keras))\n",
        "\n",
        "print(f\"Modelo Keras treinado. RMSE (test): {rmse_keras:.4f}\")\n"
      ],
      "metadata": {
        "colab": {
          "base_uri": "https://localhost:8080/"
        },
        "id": "dI5q0F31dXfH",
        "outputId": "cb44c8ef-a7c4-4425-8cef-95835e36ba3a"
      },
      "execution_count": 14,
      "outputs": [
        {
          "output_type": "stream",
          "name": "stdout",
          "text": [
            "Modelo Keras treinado. RMSE (test): 0.5274\n"
          ]
        }
      ]
    },
    {
      "cell_type": "code",
      "source": [
        "lr_reg = LinearRegression()\n",
        "lr_reg.fit(X_train_scaled, y_train)\n",
        "pred_lr = lr_reg.predict(X_test_scaled)\n",
        "rmse_lr = math.sqrt(mean_squared_error(y_test, pred_lr))\n",
        "\n",
        "\n",
        "print(f\"Modelo Keras (RMSE): {rmse_keras:.4f}\")\n",
        "print(f\"Modelo LinearRegression (RMSE): {rmse_lr:.4f}\")\n",
        "\n",
        "if rmse_lr < rmse_keras:\n",
        "    print(\"=> LinearRegression performou melhor (menor RMSE).\")\n",
        "elif rmse_lr > rmse_keras:\n",
        "    print(\"=> Keras performou melhor (menor RMSE).\")\n",
        "else:\n",
        "    print(\"=> Ambos tiveram RMSE igual.\")\n"
      ],
      "metadata": {
        "colab": {
          "base_uri": "https://localhost:8080/"
        },
        "id": "91Ix138XdZVy",
        "outputId": "8bb6aaed-626a-4fd7-81c9-efc6921f8dca"
      },
      "execution_count": 15,
      "outputs": [
        {
          "output_type": "stream",
          "name": "stdout",
          "text": [
            "Modelo Keras (RMSE): 0.5274\n",
            "Modelo LinearRegression (RMSE): 0.7456\n",
            "=> Keras performou melhor (menor RMSE).\n"
          ]
        }
      ]
    },
    {
      "cell_type": "code",
      "source": [
        "modelos = ['Keras', 'LinearRegression']\n",
        "rmse = [0.5274, 0.7456]\n",
        "\n",
        "plt.bar(modelos, rmse, color=['orange', 'red'])\n",
        "plt.ylabel('RMSE')\n",
        "plt.title('Comparação de RMSE - California Housing')\n",
        "for i, v in enumerate(rmse):\n",
        "    plt.text(i, v + 0.02, f\"{v:.4f}\", ha='center')\n",
        "plt.show()\n"
      ],
      "metadata": {
        "colab": {
          "base_uri": "https://localhost:8080/",
          "height": 452
        },
        "id": "2Wr9IFTMhDd9",
        "outputId": "a68ff15b-bfea-4da6-d11f-d28a3e303d46"
      },
      "execution_count": 16,
      "outputs": [
        {
          "output_type": "display_data",
          "data": {
            "text/plain": [
              "<Figure size 640x480 with 1 Axes>"
            ],
            "image/png": "[encoded data removed]"
          },
          "metadata": {}
        }
      ]
    }
  ]
}