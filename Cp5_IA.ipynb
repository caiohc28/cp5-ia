{
  "nbformat": 4,
  "nbformat_minor": 0,
  "metadata": {
    "colab": {
      "provenance": [],
      "authorship_tag": "ABX9TyPMo2KH6vwy8Iyg88lqDzNX",
      "include_colab_link": true
    },
    "kernelspec": {
      "name": "python3",
      "display_name": "Python 3"
    },
    "language_info": {
      "name": "python"
    }
  },
  "cells": [
    {
      "cell_type": "markdown",
      "metadata": {
        "id": "view-in-github",
        "colab_type": "text"
      },
      "source": [
        "<a href=\"https://colab.research.google.com/github/caiohc28/cp5-ia/blob/main/Cp5_IA.ipynb\" target=\"_parent\"><img src=\"https://colab.research.google.com/assets/colab-badge.svg\" alt=\"Open In Colab\"/></a>"
      ]
    },
    {
      "cell_type": "code",
      "execution_count": null,
      "metadata": {
        "id": "KDUFsQWYdNO8"
      },
      "outputs": [],
      "source": [
        "# Imports\n",
        "import numpy as np\n",
        "import pandas as pd\n",
        "import tensorflow as tf\n",
        "from tensorflow import keras\n",
        "from tensorflow.keras import layers\n",
        "from sklearn.datasets import load_wine, fetch_california_housing\n",
        "from sklearn.model_selection import train_test_split\n",
        "from sklearn.preprocessing import StandardScaler\n",
        "from sklearn.linear_model import LogisticRegression, LinearRegression\n",
        "from sklearn.metrics import accuracy_score, mean_squared_error\n",
        "import math\n",
        "import os\n",
        "import random\n",
        "\n",
        "SEED = 42\n",
        "np.random.seed(SEED)\n",
        "tf.random.set_seed(SEED)\n",
        "random.seed(SEED)\n",
        "os.environ['PYTHONHASHSEED'] = str(SEED)\n"
      ]
    },
    {
      "cell_type": "markdown",
      "source": [
        "# **EXERCICIO 1**"
      ],
      "metadata": {
        "id": "gO9ay37IeElG"
      }
    },
    {
      "cell_type": "code",
      "source": [
        "# Carregar dados\n",
        "data = load_wine()\n",
        "X = data.data\n",
        "y = data.target  # 3 classes: 0,1,2\n",
        "target_names = data.target_names\n",
        "\n",
        "# Split treino/test\n",
        "X_train, X_test, y_train, y_test = train_test_split(X, y, test_size=0.2, random_state=SEED, stratify=y)\n",
        "\n",
        "# Escalar features (é importante para redes e para o LR)\n",
        "scaler = StandardScaler()\n",
        "X_train_scaled = scaler.fit_transform(X_train)\n",
        "X_test_scaled = scaler.transform(X_test)\n",
        "\n",
        "# Para Keras precisamos de one-hot\n",
        "y_train_cat = keras.utils.to_categorical(y_train, num_classes=3)\n",
        "y_test_cat = keras.utils.to_categorical(y_test, num_classes=3)\n",
        "\n",
        "print(\"Wine dataset:\", X.shape, \"classes:\", np.unique(y))\n",
        "print(\"Treino:\", X_train.shape, \"Test:\", X_test.shape)\n"
      ],
      "metadata": {
        "colab": {
          "base_uri": "https://localhost:8080/"
        },
        "id": "uH7AflgZdOsN",
        "outputId": "5741aca3-1955-4cea-c498-a6055bdbb047"
      },
      "execution_count": null,
      "outputs": [
        {
          "output_type": "stream",
          "name": "stdout",
          "text": [
            "Wine dataset: (178, 13) classes: [0 1 2]\n",
            "Treino: (142, 13) Test: (36, 13)\n"
          ]
        }
      ]
    },
    {
      "cell_type": "code",
      "source": [
        "# Construção do modelo (2 camadas ocultas com 32 neurônios, ReLU)\n",
        "def build_wine_keras_model(input_dim):\n",
        "    model = keras.Sequential([\n",
        "        layers.Input(shape=(input_dim,)),\n",
        "        layers.Dense(32, activation='relu'),\n",
        "        layers.Dense(32, activation='relu'),\n",
        "        layers.Dense(3, activation='softmax')  # 3 classes\n",
        "    ])\n",
        "    model.compile(optimizer='adam',\n",
        "                  loss='categorical_crossentropy',\n",
        "                  metrics=['accuracy'])\n",
        "    return model\n",
        "\n",
        "model_wine = build_wine_keras_model(X_train_scaled.shape[1])\n",
        "# Treinar\n",
        "history = model_wine.fit(X_train_scaled, y_train_cat,\n",
        "                         validation_split=0.1,\n",
        "                         epochs=50,\n",
        "                         batch_size=16,\n",
        "                         verbose=0)  # sem prints longos\n",
        "\n",
        "# Avaliar no conjunto de teste\n",
        "pred_proba = model_wine.predict(X_test_scaled, verbose=0)\n",
        "pred_classes = np.argmax(pred_proba, axis=1)\n",
        "acc_keras_wine = accuracy_score(y_test, pred_classes)\n",
        "\n",
        "print(f\"Modelo Keras treinado. Acurácia (test): {acc_keras_wine:.4f}\")\n"
      ],
      "metadata": {
        "colab": {
          "base_uri": "https://localhost:8080/"
        },
        "id": "d0b4YZNndRAx",
        "outputId": "05e3c309-1694-446c-bfb1-3c3a78f0deca"
      },
      "execution_count": null,
      "outputs": [
        {
          "output_type": "stream",
          "name": "stdout",
          "text": [
            "Modelo Keras treinado. Acurácia (test): 0.9722\n"
          ]
        }
      ]
    },
    {
      "cell_type": "code",
      "source": [
        "# Logistic Regression (multinomial)\n",
        "lr = LogisticRegression(multi_class='multinomial', max_iter=1000, random_state=SEED, solver='lbfgs')\n",
        "lr.fit(X_train_scaled, y_train)\n",
        "pred_lr = lr.predict(X_test_scaled)\n",
        "acc_lr = accuracy_score(y_test, pred_lr)\n",
        "\n",
        "# Print no estilo solicitado (modo 2)\n",
        "print(f\"Modelo Keras: {acc_keras_wine*100:.2f}% de acurácia.\")\n",
        "print(f\"Modelo LogisticRegression: {acc_lr*100:.2f}% de acurácia.\")\n",
        "if acc_lr > acc_keras_wine:\n",
        "    print(\"=> LogisticRegression performou melhor.\")\n",
        "elif acc_lr < acc_keras_wine:\n",
        "    print(\"=> Keras performou melhor.\")\n",
        "else:\n",
        "    print(\"=> Ambos performaram igual.\")\n"
      ],
      "metadata": {
        "colab": {
          "base_uri": "https://localhost:8080/"
        },
        "id": "Qx7UJkMldTW6",
        "outputId": "5b9010db-3554-44fe-ae99-f44ebce84184"
      },
      "execution_count": null,
      "outputs": [
        {
          "output_type": "stream",
          "name": "stdout",
          "text": [
            "Modelo Keras: 97.22% de acurácia.\n",
            "Modelo LogisticRegression: 97.22% de acurácia.\n",
            "=> Ambos performaram igual.\n"
          ]
        },
        {
          "output_type": "stream",
          "name": "stderr",
          "text": [
            "/usr/local/lib/python3.12/dist-packages/sklearn/linear_model/_logistic.py:1247: FutureWarning: 'multi_class' was deprecated in version 1.5 and will be removed in 1.7. From then on, it will always use 'multinomial'. Leave it to its default value to avoid this warning.\n",
            "  warnings.warn(\n"
          ]
        }
      ]
    },
    {
      "cell_type": "markdown",
      "source": [
        "# **EXERCICIO 2**"
      ],
      "metadata": {
        "id": "lwkFyQ5fd_nQ"
      }
    },
    {
      "cell_type": "code",
      "source": [
        "# Carregar dataset California Housing\n",
        "housing = fetch_california_housing()\n",
        "X = housing.data\n",
        "y = housing.target  # target: median house value (em 100k USD por padrão no sklearn)\n",
        "\n",
        "# Split treino/test\n",
        "X_train, X_test, y_train, y_test = train_test_split(X, y, test_size=0.2, random_state=SEED)\n",
        "\n",
        "# Escalar features (mantemos y na escala original para interpretar RMSE diretamente)\n",
        "scaler_X = StandardScaler()\n",
        "X_train_scaled = scaler_X.fit_transform(X_train)\n",
        "X_test_scaled = scaler_X.transform(X_test)\n",
        "\n",
        "print(\"California Housing:\", X.shape)\n",
        "print(\"Treino:\", X_train.shape, \"Test:\", X_test.shape)\n"
      ],
      "metadata": {
        "colab": {
          "base_uri": "https://localhost:8080/"
        },
        "id": "yrE-_RsGdVXJ",
        "outputId": "c835a0de-a9e1-4d71-99be-d99351d12732"
      },
      "execution_count": null,
      "outputs": [
        {
          "output_type": "stream",
          "name": "stdout",
          "text": [
            "California Housing: (20640, 8)\n",
            "Treino: (16512, 8) Test: (4128, 8)\n"
          ]
        }
      ]
    },
    {
      "cell_type": "code",
      "source": [
        "# Construção do modelo de regressão (3 camadas: 64, 32, 16)\n",
        "def build_housing_keras_model(input_dim):\n",
        "    model = keras.Sequential([\n",
        "        layers.Input(shape=(input_dim,)),\n",
        "        layers.Dense(64, activation='relu'),\n",
        "        layers.Dense(32, activation='relu'),\n",
        "        layers.Dense(16, activation='relu'),\n",
        "        layers.Dense(1, activation='linear')\n",
        "    ])\n",
        "    model.compile(optimizer='adam', loss='mse')\n",
        "    return model\n",
        "\n",
        "model_housing = build_housing_keras_model(X_train_scaled.shape[1])\n",
        "# Treinar\n",
        "history = model_housing.fit(X_train_scaled, y_train,\n",
        "                            validation_split=0.1,\n",
        "                            epochs=100,\n",
        "                            batch_size=32,\n",
        "                            verbose=0)  # treino silencioso\n",
        "\n",
        "# Previsões e RMSE\n",
        "pred_keras = model_housing.predict(X_test_scaled, verbose=0).ravel()\n",
        "rmse_keras = math.sqrt(mean_squared_error(y_test, pred_keras))\n",
        "\n",
        "print(f\"Modelo Keras treinado. RMSE (test): {rmse_keras:.4f}\")\n"
      ],
      "metadata": {
        "colab": {
          "base_uri": "https://localhost:8080/"
        },
        "id": "dI5q0F31dXfH",
        "outputId": "94a38938-7b1b-4c54-c58c-f6bfd5c0f6ad"
      },
      "execution_count": null,
      "outputs": [
        {
          "output_type": "stream",
          "name": "stdout",
          "text": [
            "Modelo Keras treinado. RMSE (test): 0.5274\n"
          ]
        }
      ]
    },
    {
      "cell_type": "code",
      "source": [
        "# Linear Regression\n",
        "lr_reg = LinearRegression()\n",
        "lr_reg.fit(X_train_scaled, y_train)\n",
        "pred_lr = lr_reg.predict(X_test_scaled)\n",
        "rmse_lr = math.sqrt(mean_squared_error(y_test, pred_lr))\n",
        "\n",
        "# Print no formato solicitado para regressão (RMSE)\n",
        "print(f\"Modelo Keras (RMSE): {rmse_keras:.4f}\")\n",
        "print(f\"Modelo LinearRegression (RMSE): {rmse_lr:.4f}\")\n",
        "\n",
        "if rmse_lr < rmse_keras:\n",
        "    print(\"=> LinearRegression performou melhor (menor RMSE).\")\n",
        "elif rmse_lr > rmse_keras:\n",
        "    print(\"=> Keras performou melhor (menor RMSE).\")\n",
        "else:\n",
        "    print(\"=> Ambos tiveram RMSE igual.\")\n"
      ],
      "metadata": {
        "colab": {
          "base_uri": "https://localhost:8080/"
        },
        "id": "91Ix138XdZVy",
        "outputId": "76842f63-5667-49cc-ec65-9f6872d3ae01"
      },
      "execution_count": null,
      "outputs": [
        {
          "output_type": "stream",
          "name": "stdout",
          "text": [
            "Modelo Keras (RMSE): 0.5274\n",
            "Modelo LinearRegression (RMSE): 0.7456\n",
            "=> Keras performou melhor (menor RMSE).\n"
          ]
        }
      ]
    }
  ]
}